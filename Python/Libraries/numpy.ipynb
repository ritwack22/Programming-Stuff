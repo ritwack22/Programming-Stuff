{
 "cells": [
  {
   "cell_type": "markdown",
   "metadata": {},
   "source": [
    "### Numpy Basics\n",
    "\n",
    "Numpy is a multidimensional array library. It can be used to store 1d, 2d, 3d arrays etc. \n",
    "\n",
    "Numpy has much faster processing compared to lists so it is more benficial to use numpy for large datasets.\n",
    "\n",
    "Numpy can be used for Mathematics, Plotting, is used for a lot of backend libraries like pandas, and Machine Learning."
   ]
  },
  {
   "cell_type": "code",
   "execution_count": 1,
   "metadata": {},
   "outputs": [],
   "source": [
    "import numpy as np"
   ]
  },
  {
   "cell_type": "code",
   "execution_count": 6,
   "metadata": {},
   "outputs": [
    {
     "name": "stdout",
     "output_type": "stream",
     "text": [
      "[1 2 3]\n",
      "[[9. 8. 7.]\n",
      " [6. 5. 4.]]\n"
     ]
    }
   ],
   "source": [
    "a=np.array([1,2,3])\n",
    "print(a)\n",
    "\n",
    "b=np.array([[9.0,8.0,7.0],[6.0,5.0,4.0]])\n",
    "print(b)"
   ]
  },
  {
   "cell_type": "code",
   "execution_count": 7,
   "metadata": {},
   "outputs": [
    {
     "data": {
      "text/plain": [
       "1"
      ]
     },
     "execution_count": 7,
     "metadata": {},
     "output_type": "execute_result"
    }
   ],
   "source": [
    "#Get Dimension of Array - Gives dimesionality of the array\n",
    "a.ndim"
   ]
  },
  {
   "cell_type": "code",
   "execution_count": 10,
   "metadata": {},
   "outputs": [
    {
     "name": "stdout",
     "output_type": "stream",
     "text": [
      "(2, 3)\n"
     ]
    },
    {
     "data": {
      "text/plain": [
       "(3,)"
      ]
     },
     "execution_count": 10,
     "metadata": {},
     "output_type": "execute_result"
    }
   ],
   "source": [
    "#Get Shape - Gives the number of rows and columns\n",
    "print(b.shape)\n",
    "a.shape"
   ]
  },
  {
   "cell_type": "code",
   "execution_count": 14,
   "metadata": {},
   "outputs": [
    {
     "data": {
      "text/plain": [
       "6"
      ]
     },
     "execution_count": 14,
     "metadata": {},
     "output_type": "execute_result"
    }
   ],
   "source": [
    "#Get Size - Gives the number of elements\n",
    "b.size"
   ]
  },
  {
   "cell_type": "markdown",
   "metadata": {},
   "source": [
    "### Accessing and Changing specific rows, elements, columns etc."
   ]
  },
  {
   "cell_type": "code",
   "execution_count": 18,
   "metadata": {},
   "outputs": [
    {
     "name": "stdout",
     "output_type": "stream",
     "text": [
      "[[ 1  2  3  4  5]\n",
      " [ 6  7  8  9 10]]\n"
     ]
    }
   ],
   "source": [
    "a=np.array([[1,2,3,4,5],[6,7,8,9,10]])\n",
    "print(a)"
   ]
  },
  {
   "cell_type": "code",
   "execution_count": 21,
   "metadata": {},
   "outputs": [
    {
     "name": "stdout",
     "output_type": "stream",
     "text": [
      "8\n",
      "[1 2 3 4 5]\n",
      "[1 6]\n"
     ]
    }
   ],
   "source": [
    "print(a[1,2]) # Get specific element using indexes [row, column]\n",
    "\n",
    "print(a[0,:]) # Get entire row\n",
    "\n",
    "print(a[:,0]) # Get entire column"
   ]
  },
  {
   "cell_type": "code",
   "execution_count": 22,
   "metadata": {},
   "outputs": [
    {
     "name": "stdout",
     "output_type": "stream",
     "text": [
      "[1 3 5]\n"
     ]
    }
   ],
   "source": [
    "print(a[0,0:6:2]) # Using step index to skip elements [start index: end index: step index]"
   ]
  },
  {
   "cell_type": "code",
   "execution_count": 26,
   "metadata": {},
   "outputs": [
    {
     "name": "stdout",
     "output_type": "stream",
     "text": [
      "[[  1 120   3   4   5]\n",
      " [  6 120   8  15  10]]\n"
     ]
    }
   ],
   "source": [
    "# changing element\n",
    "\n",
    "a[1,3]=15\n",
    "\n",
    "#changing column\n",
    "a[:,1]=120\n",
    "print(a)"
   ]
  },
  {
   "cell_type": "markdown",
   "metadata": {},
   "source": [
    "### Initializing Different Types of Arrays"
   ]
  },
  {
   "cell_type": "code",
   "execution_count": 32,
   "metadata": {},
   "outputs": [
    {
     "name": "stdout",
     "output_type": "stream",
     "text": [
      "[[4. 4. 4.]\n",
      " [4. 4. 4.]]\n"
     ]
    }
   ],
   "source": [
    "b=np.zeros((2,3)) # Initializing a zero array with a set shape\n",
    "#print(b)\n",
    "\n",
    "c=np.ones((2,6)) # Initializing a ones array with set shape\n",
    "#print(c)\n",
    "\n",
    "d=np.full((2,2),99) # Initializing an array with a specific number\n",
    "#print(d)\n",
    "\n",
    "e=np.full_like(b,4) # Can create new array using shape of an exisitng one\n",
    "#print(e)"
   ]
  },
  {
   "cell_type": "code",
   "execution_count": 38,
   "metadata": {},
   "outputs": [
    {
     "name": "stdout",
     "output_type": "stream",
     "text": [
      "[[0.25588963 0.00160394]\n",
      " [0.32776581 0.48748474]\n",
      " [0.15410432 0.27102498]\n",
      " [0.5829282  0.77018259]]\n",
      "[[4 3 2]\n",
      " [4 6 2]\n",
      " [6 4 6]]\n"
     ]
    }
   ],
   "source": [
    "print(np.random.rand(4,2)) # Gives a array with random numbers between 0 to 1 using an exisiting shape\n",
    "\n",
    "print(np.random.randint(2,7,size=(3,3))) #Gives a random integer array based on a shape"
   ]
  },
  {
   "cell_type": "code",
   "execution_count": 45,
   "metadata": {},
   "outputs": [
    {
     "name": "stdout",
     "output_type": "stream",
     "text": [
      "[[1. 1. 1. 1. 1.]\n",
      " [1. 0. 0. 0. 1.]\n",
      " [1. 0. 9. 0. 1.]\n",
      " [1. 0. 0. 0. 1.]\n",
      " [1. 1. 1. 1. 1.]]\n"
     ]
    }
   ],
   "source": [
    "# Sample problem\n",
    "\n",
    "output = np.ones((5,5))\n",
    "z= np.zeros((3,3))\n",
    "z[1,1]=9\n",
    "output[1:4,1:4]=z\n",
    "print(output)"
   ]
  },
  {
   "cell_type": "markdown",
   "metadata": {},
   "source": [
    "### Mathematics"
   ]
  },
  {
   "cell_type": "code",
   "execution_count": 48,
   "metadata": {},
   "outputs": [
    {
     "name": "stdout",
     "output_type": "stream",
     "text": [
      "[1 2 3]\n",
      "[3 4 5]\n",
      "[-1  0  1]\n",
      "[2 4 6]\n",
      "[0.5 1.  1.5]\n"
     ]
    }
   ],
   "source": [
    "a=np.array([1,2,3])\n",
    "print(a)\n",
    "\n",
    "print(a+2) # Does the mathematical expression on the entire array\n",
    "print(a-2)\n",
    "print(a*2)\n",
    "print(a/2)"
   ]
  },
  {
   "cell_type": "code",
   "execution_count": 50,
   "metadata": {},
   "outputs": [
    {
     "data": {
      "text/plain": [
       "array([1, 3, 3])"
      ]
     },
     "execution_count": 50,
     "metadata": {},
     "output_type": "execute_result"
    }
   ],
   "source": [
    "b=np.array([0,1,0])\n",
    "a+b # All the same mathematical expressions can be done between the 2 arrays"
   ]
  },
  {
   "cell_type": "code",
   "execution_count": 54,
   "metadata": {},
   "outputs": [
    {
     "data": {
      "text/plain": [
       "array([[6., 6.],\n",
       "       [6., 6.]])"
      ]
     },
     "execution_count": 54,
     "metadata": {},
     "output_type": "execute_result"
    }
   ],
   "source": [
    "a=np.ones((2,3))\n",
    "\n",
    "\n",
    "b=np.full((3,2),2)\n",
    "\n",
    "\n",
    "np.matmul(a,b) # Used for matrix multiplication"
   ]
  },
  {
   "cell_type": "code",
   "execution_count": 58,
   "metadata": {},
   "outputs": [
    {
     "name": "stdout",
     "output_type": "stream",
     "text": [
      "1.0\n"
     ]
    }
   ],
   "source": [
    "c=np.identity(3)\n",
    "print(np.linalg.det(c)) # similarly inverse, transpose, eigen can done"
   ]
  },
  {
   "cell_type": "code",
   "execution_count": 63,
   "metadata": {},
   "outputs": [
    {
     "name": "stdout",
     "output_type": "stream",
     "text": [
      "1\n",
      "6\n",
      "[1 4]\n",
      "21\n"
     ]
    }
   ],
   "source": [
    "stats=np.array([[1,2,3],[4,5,6]])\n",
    "\n",
    "print(np.min(stats)) # Gives min value in array\n",
    "print(np.max(stats)) # Gives max value n array\n",
    "print(np.min(stats, axis=1)) # gives min per row\n",
    "print(np.sum(stats)) #Gives sum of matrix, adding axis will give sum of rows and columns"
   ]
  },
  {
   "cell_type": "markdown",
   "metadata": {},
   "source": [
    "### Reorganizing Arrays"
   ]
  },
  {
   "cell_type": "code",
   "execution_count": 67,
   "metadata": {},
   "outputs": [
    {
     "name": "stdout",
     "output_type": "stream",
     "text": [
      "[[1 2 3 4]\n",
      " [5 6 7 8]]\n",
      "[[1 2]\n",
      " [3 4]\n",
      " [5 6]\n",
      " [7 8]]\n"
     ]
    }
   ],
   "source": [
    "before = np.array([[1,2,3,4],[5,6,7,8]])\n",
    "print(before)\n",
    "\n",
    "after= np.reshape(before,(4,2)) # Should contain the same number of values\n",
    "print(after)"
   ]
  },
  {
   "cell_type": "code",
   "execution_count": 72,
   "metadata": {},
   "outputs": [
    {
     "name": "stdout",
     "output_type": "stream",
     "text": [
      "[[1 2 3 4]\n",
      " [5 6 7 8]\n",
      " [5 6 7 8]\n",
      " [5 6 7 8]]\n",
      "[1 2 3 4 5 6 7 8]\n"
     ]
    }
   ],
   "source": [
    "v1=np.array([1,2,3,4])\n",
    "v2=np.array([5,6,7,8])\n",
    "\n",
    "print(np.vstack((v1,v2,v2,v2))) # vertically stacking arrays\n",
    "print(np.hstack((v1,v2))) # horizontally stacking arrays"
   ]
  },
  {
   "cell_type": "markdown",
   "metadata": {},
   "source": [
    "### Miscellaneous\n",
    "\n",
    "Load Data from file - Use function np.getfromtxt(filename,delimeter) to load the data present in your text file into a numpy array\n",
    "\n",
    "Change data type - Use function np.astype() to change the datatype of an array\n",
    "\n"
   ]
  },
  {
   "cell_type": "code",
   "execution_count": 78,
   "metadata": {},
   "outputs": [
    {
     "name": "stdout",
     "output_type": "stream",
     "text": [
      "[False False False  True]\n"
     ]
    },
    {
     "data": {
      "text/plain": [
       "array([4])"
      ]
     },
     "execution_count": 78,
     "metadata": {},
     "output_type": "execute_result"
    }
   ],
   "source": [
    "#Boolean Masking\n",
    "\n",
    "print(v1>3)# gives an array where value matches the condition\n",
    "\n",
    "v1[v1>3] # gives the elements where the condiiton is met\n",
    "\n"
   ]
  },
  {
   "cell_type": "code",
   "execution_count": 86,
   "metadata": {},
   "outputs": [
    {
     "name": "stdout",
     "output_type": "stream",
     "text": [
      "[[4 7 3 7 9 2]\n",
      " [1 9 5 3 5 2]\n",
      " [6 8 1 3 0 1]]\n",
      "[ True  True  True  True  True False]\n",
      "[False  True False False False False]\n"
     ]
    }
   ],
   "source": [
    "a=np.array([[4,7,3,7,9,2],[1,9,5,3,5,2],[6,8,1,3,0,1]])\n",
    "print(a)\n",
    "\n",
    "print(np.any(a>4,axis=0)) # Gives the columns that match the condition if any element of column matches then gives true\n",
    "\n",
    "print(np.all(a>4,axis=0)) # Gives true if all elements of a column match the condiiton"
   ]
  }
 ],
 "metadata": {
  "kernelspec": {
   "display_name": "Python 3",
   "language": "python",
   "name": "python3"
  },
  "language_info": {
   "codemirror_mode": {
    "name": "ipython",
    "version": 3
   },
   "file_extension": ".py",
   "mimetype": "text/x-python",
   "name": "python",
   "nbconvert_exporter": "python",
   "pygments_lexer": "ipython3",
   "version": "3.11.4"
  },
  "orig_nbformat": 4
 },
 "nbformat": 4,
 "nbformat_minor": 2
}
