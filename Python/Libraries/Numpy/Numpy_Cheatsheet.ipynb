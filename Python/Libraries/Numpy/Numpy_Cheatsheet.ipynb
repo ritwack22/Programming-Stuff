{
 "cells": [
  {
   "cell_type": "markdown",
   "metadata": {},
   "source": [
    "# Numpy Cheatsheet"
   ]
  },
  {
   "cell_type": "markdown",
   "metadata": {},
   "source": [
    "## Basics\n",
    "\n",
    "np.array([1,2,3])\t1d array  \n",
    "\n",
    "np.array([(1,2,3),(4,5,6)])\t2d array  \n",
    "\n",
    "np.arange(start,stop,step)\trange array  "
   ]
  },
  {
   "cell_type": "markdown",
   "metadata": {},
   "source": [
    "## Placeholders\n",
    "\n",
    "np.linspace(0,2,9)\tAdd evenly spaced values btw interval to array of length\n",
    "\n",
    "np.zeros((1,2))\tCreate and array filled with zeros\n",
    "\n",
    "np.ones((1,2))\tCreates an array filled with ones\n",
    "\n",
    "np.random.random((5,5))\tCreates random array\n",
    "\n",
    "np.empty((2,2))\tCreates an empty array"
   ]
  },
  {
   "cell_type": "markdown",
   "metadata": {},
   "source": [
    "## Array\n",
    "\n",
    "array.shape\tDimensions (Rows,Columns)\n",
    "\n",
    "len(array)\tLength of Array\n",
    "\n",
    "array.ndim\tNumber of Array Dimensions\n",
    "\n",
    "array.dtype\tData Type\n",
    "\n",
    "array.astype(type)\tConverts to Data Type\n",
    "\n",
    "type(array)\tType of Array"
   ]
  },
  {
   "cell_type": "markdown",
   "metadata": {},
   "source": [
    "## Copying/Sorting\n",
    "\n",
    "np.copy(array)\tCreates copy of array\n",
    "\n",
    "other = array.copy()\tCreates deep copy of array\n",
    "\n",
    "array.sort()\tSorts an array\n",
    "\n",
    "array.sort(axis=0)\tSorts axis of array"
   ]
  },
  {
   "cell_type": "markdown",
   "metadata": {},
   "source": [
    "## Adding or removing elements\n",
    "\n",
    "np.append(a,b)\tAppend items to array\n",
    "\n",
    "np.insert(array, 1, 2, axis)\tInsert items into array at axis 0 or 1\n",
    "\n",
    "np.resize((2,4))\tResize array to shape(2,4)\n",
    "\n",
    "np.delete(array,1,axis)\tDeletes items from array"
   ]
  },
  {
   "cell_type": "markdown",
   "metadata": {},
   "source": [
    "## Array Manipulation\n",
    "\n",
    "\n",
    "### Combining Arrays\n",
    "\n",
    "np.concatenate((a,b),axis=0)\tConcatenates 2 arrays, adds to end\n",
    "\n",
    "np.vstack((a,b))\tStack array row-wise\n",
    "\n",
    "np.hstack((a,b))\tStack array column wise\n",
    "\n",
    "### Splitting Arrays\n",
    "\n",
    "numpy.split()\tSplit an array into multiple sub-arrays.\n",
    "\n",
    "np.array_split(array, 3)\tSplit an array in sub-arrays of (nearly) identical size\n",
    "\n",
    "numpy.hsplit(array, 3)\tSplit the array horizontally at 3rd index\n",
    "\n",
    "### More\n",
    "\n",
    "other = ndarray.flatten()\tFlattens a 2d array to 1d\n",
    "\n",
    "array = np.transpose(other)\n",
    "\n",
    "array.T\tTranspose array\n",
    "\n",
    "inverse = np.linalg.inv(matrix)\tInverse of a given matrix"
   ]
  },
  {
   "cell_type": "markdown",
   "metadata": {},
   "source": [
    "## Mathematics\n",
    "\n",
    "np.add(x,y)\n",
    "x + y\tAddition\n",
    "\n",
    "np.substract(x,y)\n",
    "x - y\tSubtraction\n",
    "\n",
    "np.divide(x,y)\n",
    "x / y\tDivision\n",
    "\n",
    "np.multiply(x,y)\n",
    "x @ y\tMultiplication\n",
    "\n",
    "np.sqrt(x)\tSquare Root\n",
    "\n",
    "np.sin(x)\tElement-wise sine\n",
    "\n",
    "np.cos(x)\tElement-wise cosine\n",
    "\n",
    "np.log(x)\tElement-wise natural log\n",
    "\n",
    "np.dot(x,y)\tDot product\n",
    "\n",
    "np.roots([1,0,-4])\tRoots of a given polynomial coefficients"
   ]
  },
  {
   "cell_type": "markdown",
   "metadata": {},
   "source": [
    "### Basic Stats\n",
    "\n",
    "np.mean(array)\tMean\n",
    "\n",
    "np.median(array)\tMedian\n",
    "\n",
    "array.corrcoef()\tCorrelation Coefficient\n",
    "\n",
    "np.std(array)\tStandard Deviation"
   ]
  },
  {
   "cell_type": "markdown",
   "metadata": {},
   "source": [
    "### More\n",
    "\n",
    "array.sum()\tArray-wise sum\n",
    "\n",
    "array.min()\tArray-wise minimum value\n",
    "\n",
    "array.max(axis=0)\tMaximum value of specified axis\n",
    "\n",
    "array.cumsum(axis=0)\tCumulative sum of specified axis"
   ]
  },
  {
   "cell_type": "markdown",
   "metadata": {},
   "source": [
    "## Slicing and Subsetting\n",
    "\n",
    "array[i]\t1d array at index i\n",
    "\n",
    "array[i,j]\t2d array at index[i][j]\n",
    "\n",
    "array[i<4]\tBoolean Indexing, see Tricks\n",
    "\n",
    "array[0:3]\tSelect items of index 0, 1 and 2\n",
    "\n",
    "array[0:2,1]\tSelect items of rows 0 and 1 at column 1\n",
    "\n",
    "array[:1]\tSelect items of row 0 (equals array[0:1, :])\n",
    "\n",
    "array[1:2, :]\tSelect items of row 1\n",
    "\n",
    "[comment]: <> (\tarray[1,...]\n",
    "\n",
    "array[ : :-1]\tReverses array"
   ]
  }
 ],
 "metadata": {
  "language_info": {
   "name": "python"
  },
  "orig_nbformat": 4
 },
 "nbformat": 4,
 "nbformat_minor": 2
}
