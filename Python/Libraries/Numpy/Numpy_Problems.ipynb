{
 "cells": [
  {
   "cell_type": "code",
   "execution_count": 2,
   "metadata": {},
   "outputs": [],
   "source": [
    "import numpy as np"
   ]
  },
  {
   "cell_type": "markdown",
   "metadata": {},
   "source": [
    "### Program 1 - Get all odd numbers from an array and then convert them to -1"
   ]
  },
  {
   "cell_type": "code",
   "execution_count": 3,
   "metadata": {},
   "outputs": [
    {
     "name": "stdout",
     "output_type": "stream",
     "text": [
      "[1 3 5 7 9]\n",
      "[ 0 -1  2 -1  4 -1  6 -1  8 -1]\n"
     ]
    }
   ],
   "source": [
    "a=np.arange(10)\n",
    "\n",
    "odd_numbers= a[a% 2 != 0]\n",
    "print(odd_numbers)\n",
    "\n",
    "a[odd_numbers]=-1\n",
    "\n",
    "print(a)"
   ]
  },
  {
   "cell_type": "markdown",
   "metadata": {},
   "source": [
    "### Program 2 - Convert array to boolean array where positive value are True"
   ]
  },
  {
   "cell_type": "code",
   "execution_count": 4,
   "metadata": {},
   "outputs": [
    {
     "name": "stdout",
     "output_type": "stream",
     "text": [
      "[ True False  True False False  True  True]\n"
     ]
    }
   ],
   "source": [
    "a=np.array([0,-1,3,-8,-2,1,0])\n",
    "\n",
    "boolean_array= a >= 0\n",
    "print(boolean_array)"
   ]
  },
  {
   "cell_type": "markdown",
   "metadata": {},
   "source": [
    "### Program 3 - Replace all even numbers in an array with their negatives"
   ]
  },
  {
   "cell_type": "code",
   "execution_count": 5,
   "metadata": {},
   "outputs": [
    {
     "name": "stdout",
     "output_type": "stream",
     "text": [
      "[  0   1  -2   3  -4   5  -6   7  -8   9 -10]\n"
     ]
    }
   ],
   "source": [
    "a=np.arange(0,11)\n",
    "\n",
    "a[a%2==0] *= -1\n",
    "print(a)\n"
   ]
  },
  {
   "cell_type": "markdown",
   "metadata": {},
   "source": [
    "### Program 4 - Normalize a matrix (Subtract mean and divide by std dev)"
   ]
  },
  {
   "cell_type": "code",
   "execution_count": 6,
   "metadata": {},
   "outputs": [
    {
     "name": "stdout",
     "output_type": "stream",
     "text": [
      "[[-0.50303726  0.99489847  1.14830904]\n",
      " [-0.32917025  1.0674563   0.2349173 ]\n",
      " [-1.76130851 -1.33989786  0.48783277]]\n"
     ]
    }
   ],
   "source": [
    "a=np.random.random((3,3))\n",
    "normalized_matrix= (a-np.mean(a))/np.std(a)\n",
    "print(normalized_matrix)"
   ]
  },
  {
   "cell_type": "markdown",
   "metadata": {},
   "source": [
    "### Program 5 - Invert the numpy Array"
   ]
  },
  {
   "cell_type": "code",
   "execution_count": 17,
   "metadata": {},
   "outputs": [
    {
     "name": "stdout",
     "output_type": "stream",
     "text": [
      "[9 8 5 9 2 4 4 1 1 0]\n",
      "[0 1 1 4 4 2 9 5 8 9]\n"
     ]
    }
   ],
   "source": [
    "a=np.random.randint(0,10,(10,))\n",
    "print(a)\n",
    "a=a[::-1]\n",
    "print(a)"
   ]
  },
  {
   "cell_type": "markdown",
   "metadata": {},
   "source": [
    "### Program 6 - Find indices of the Maximum and Minimum value in a matrix"
   ]
  },
  {
   "cell_type": "code",
   "execution_count": null,
   "metadata": {},
   "outputs": [],
   "source": []
  }
 ],
 "metadata": {
  "kernelspec": {
   "display_name": "Python 3",
   "language": "python",
   "name": "python3"
  },
  "language_info": {
   "codemirror_mode": {
    "name": "ipython",
    "version": 3
   },
   "file_extension": ".py",
   "mimetype": "text/x-python",
   "name": "python",
   "nbconvert_exporter": "python",
   "pygments_lexer": "ipython3",
   "version": "3.11.4"
  },
  "orig_nbformat": 4
 },
 "nbformat": 4,
 "nbformat_minor": 2
}
