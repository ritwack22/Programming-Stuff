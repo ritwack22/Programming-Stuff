{
 "cells": [
  {
   "cell_type": "markdown",
   "metadata": {},
   "source": [
    "### Numpy Basics\n",
    "\n",
    "Numpy is a multidimensional array library. It can be used to store 1d, 2d, 3d arrays etc. \n",
    "\n",
    "Numpy has much faster processing compared to lists so it is more benficial to use numpy for large datasets.\n",
    "\n",
    "Numpy can be used for Mathematics, Plotting, is used for a lot of backend libraries like pandas, and Machine Learning."
   ]
  },
  {
   "cell_type": "code",
   "execution_count": null,
   "metadata": {},
   "outputs": [],
   "source": [
    "import numpy as np"
   ]
  },
  {
   "cell_type": "code",
   "execution_count": null,
   "metadata": {},
   "outputs": [],
   "source": [
    "a=np.array([1,2,3])\n",
    "print(a)\n",
    "\n",
    "b=np.array([[9.0,8.0,7.0],[6.0,5.0,4.0]])\n",
    "print(b)"
   ]
  },
  {
   "cell_type": "code",
   "execution_count": null,
   "metadata": {},
   "outputs": [],
   "source": [
    "#Get Dimension of Array - Gives dimesionality of the array\n",
    "a.ndim"
   ]
  },
  {
   "cell_type": "code",
   "execution_count": null,
   "metadata": {},
   "outputs": [],
   "source": [
    "#Get Shape - Gives the number of rows and columns\n",
    "print(b.shape)\n",
    "a.shape"
   ]
  },
  {
   "cell_type": "code",
   "execution_count": null,
   "metadata": {},
   "outputs": [],
   "source": [
    "#Get Size - Gives the number of elements\n",
    "b.size"
   ]
  },
  {
   "cell_type": "markdown",
   "metadata": {},
   "source": [
    "### Accessing and Changing specific rows, elements, columns etc."
   ]
  },
  {
   "cell_type": "code",
   "execution_count": null,
   "metadata": {},
   "outputs": [],
   "source": [
    "a=np.array([[1,2,3,4,5],[6,7,8,9,10]])\n",
    "print(a)"
   ]
  },
  {
   "cell_type": "code",
   "execution_count": null,
   "metadata": {},
   "outputs": [],
   "source": [
    "print(a[1,2]) # Get specific element using indexes [row, column]\n",
    "\n",
    "print(a[0,:]) # Get entire row\n",
    "\n",
    "print(a[:,0]) # Get entire column"
   ]
  },
  {
   "cell_type": "code",
   "execution_count": null,
   "metadata": {},
   "outputs": [],
   "source": [
    "print(a[0,0:6:2]) # Using step index to skip elements [start index: end index: step index]"
   ]
  },
  {
   "cell_type": "code",
   "execution_count": null,
   "metadata": {},
   "outputs": [],
   "source": [
    "# changing element\n",
    "\n",
    "a[1,3]=15\n",
    "\n",
    "#changing column\n",
    "a[:,1]=120\n",
    "print(a)"
   ]
  },
  {
   "cell_type": "markdown",
   "metadata": {},
   "source": [
    "### Initializing Different Types of Arrays"
   ]
  },
  {
   "cell_type": "code",
   "execution_count": null,
   "metadata": {},
   "outputs": [],
   "source": [
    "b=np.zeros((2,3)) # Initializing a zero array with a set shape\n",
    "#print(b)\n",
    "\n",
    "c=np.ones((2,6)) # Initializing a ones array with set shape\n",
    "#print(c)\n",
    "\n",
    "d=np.full((2,2),99) # Initializing an array with a specific number\n",
    "#print(d)\n",
    "\n",
    "e=np.full_like(b,4) # Can create new array using shape of an exisitng one\n",
    "#print(e)"
   ]
  },
  {
   "cell_type": "code",
   "execution_count": null,
   "metadata": {},
   "outputs": [],
   "source": [
    "print(np.random.rand(4,2)) # Gives a array with random numbers between 0 to 1 using an exisiting shape\n",
    "\n",
    "print(np.random.randint(2,7,size=(3,3))) #Gives a random integer array based on a shape"
   ]
  },
  {
   "cell_type": "code",
   "execution_count": null,
   "metadata": {},
   "outputs": [],
   "source": [
    "# Sample problem\n",
    "\n",
    "output = np.ones((5,5))\n",
    "z= np.zeros((3,3))\n",
    "z[1,1]=9\n",
    "output[1:4,1:4]=z\n",
    "print(output)"
   ]
  },
  {
   "cell_type": "markdown",
   "metadata": {},
   "source": [
    "### Mathematics"
   ]
  },
  {
   "cell_type": "code",
   "execution_count": null,
   "metadata": {},
   "outputs": [],
   "source": [
    "a=np.array([1,2,3])\n",
    "print(a)\n",
    "\n",
    "print(a+2) # Does the mathematical expression on the entire array\n",
    "print(a-2)\n",
    "print(a*2)\n",
    "print(a/2)"
   ]
  },
  {
   "cell_type": "code",
   "execution_count": null,
   "metadata": {},
   "outputs": [],
   "source": [
    "b=np.array([0,1,0])\n",
    "a+b # All the same mathematical expressions can be done between the 2 arrays"
   ]
  },
  {
   "cell_type": "code",
   "execution_count": null,
   "metadata": {},
   "outputs": [],
   "source": [
    "a=np.ones((2,3))\n",
    "\n",
    "\n",
    "b=np.full((3,2),2)\n",
    "\n",
    "\n",
    "np.matmul(a,b) # Used for matrix multiplication"
   ]
  },
  {
   "cell_type": "code",
   "execution_count": null,
   "metadata": {},
   "outputs": [],
   "source": [
    "c=np.identity(3)\n",
    "print(np.linalg.det(c)) # similarly inverse, transpose, eigen can done"
   ]
  },
  {
   "cell_type": "code",
   "execution_count": null,
   "metadata": {},
   "outputs": [],
   "source": [
    "stats=np.array([[1,2,3],[4,5,6]])\n",
    "\n",
    "print(np.min(stats)) # Gives min value in array\n",
    "print(np.max(stats)) # Gives max value n array\n",
    "print(np.min(stats, axis=1)) # gives min per row\n",
    "print(np.sum(stats)) #Gives sum of matrix, adding axis will give sum of rows and columns"
   ]
  },
  {
   "cell_type": "markdown",
   "metadata": {},
   "source": [
    "### Reorganizing Arrays"
   ]
  },
  {
   "cell_type": "code",
   "execution_count": null,
   "metadata": {},
   "outputs": [],
   "source": [
    "before = np.array([[1,2,3,4],[5,6,7,8]])\n",
    "print(before)\n",
    "\n",
    "after= np.reshape(before,(4,2)) # Should contain the same number of values\n",
    "print(after)"
   ]
  },
  {
   "cell_type": "code",
   "execution_count": null,
   "metadata": {},
   "outputs": [],
   "source": [
    "v1=np.array([1,2,3,4])\n",
    "v2=np.array([5,6,7,8])\n",
    "\n",
    "print(np.vstack((v1,v2,v2,v2))) # vertically stacking arrays\n",
    "print(np.hstack((v1,v2))) # horizontally stacking arrays"
   ]
  },
  {
   "cell_type": "markdown",
   "metadata": {},
   "source": [
    "### Miscellaneous\n",
    "\n",
    "Load Data from file - Use function np.getfromtxt(filename,delimeter) to load the data present in your text file into a numpy array\n",
    "\n",
    "Change data type - Use function np.astype() to change the datatype of an array\n",
    "\n"
   ]
  },
  {
   "cell_type": "code",
   "execution_count": null,
   "metadata": {},
   "outputs": [],
   "source": [
    "#Boolean Masking\n",
    "\n",
    "print(v1>3)# gives an array where value matches the condition\n",
    "\n",
    "v1[v1>3] # gives the elements where the condiiton is met\n",
    "\n"
   ]
  },
  {
   "cell_type": "code",
   "execution_count": null,
   "metadata": {},
   "outputs": [],
   "source": [
    "a=np.array([[4,7,3,7,9,2],[1,9,5,3,5,2],[6,8,1,3,0,1]])\n",
    "print(a)\n",
    "\n",
    "print(np.any(a>4,axis=0)) # Gives the columns that match the condition if any element of column matches then gives true\n",
    "\n",
    "print(np.all(a>4,axis=0)) # Gives true if all elements of a column match the condiiton"
   ]
  },
  {
   "cell_type": "markdown",
   "metadata": {},
   "source": [
    "### Searching through a Numpy Array"
   ]
  },
  {
   "cell_type": "code",
   "execution_count": null,
   "metadata": {},
   "outputs": [],
   "source": [
    "a=np.array([1,2,3,4,5,6,7,8,9,10,4])\n",
    "\n",
    "x=np.where(a==4) #returns a tuple of the indexes where the condition is met\n",
    "print(x[0])\n",
    "print(a[x[0]]) #returns the elements\n",
    "\n",
    "x=np.where(a % 2 ==0)\n",
    "print(x[0])\n",
    "print(a[x[0]])\n",
    "\n"
   ]
  },
  {
   "cell_type": "markdown",
   "metadata": {},
   "source": [
    "### Iterate through Numpy Array"
   ]
  },
  {
   "cell_type": "code",
   "execution_count": null,
   "metadata": {},
   "outputs": [],
   "source": [
    "a=np.array([1,2,3,4,5,6,7,8,9,10,4])\n",
    "\n",
    "#for i in a:\n",
    "    #print(i)\n",
    "\n",
    "a=np.array([[4,7,3,7,9,2],[1,9,5,3,5,2],[6,8,1,3,0,1]])\n",
    "\n",
    "for i in a:\n",
    "    for j in i:\n",
    "        print(j)\n"
   ]
  },
  {
   "cell_type": "markdown",
   "metadata": {},
   "source": [
    "### Sorting Numpy Array"
   ]
  },
  {
   "cell_type": "code",
   "execution_count": null,
   "metadata": {},
   "outputs": [],
   "source": [
    "a=np.array([6,5,3,6,2,4,8,9,1,2,4])\n",
    "\n",
    "print(np.sort(a)) #returns the sorted array\n",
    "\n",
    "b=np.array([[5,2,3,1],[9,5,2,6]])\n",
    "print(b)\n",
    "print(np.sort(b))"
   ]
  }
 ],
 "metadata": {
  "kernelspec": {
   "display_name": "Python 3",
   "language": "python",
   "name": "python3"
  },
  "language_info": {
   "codemirror_mode": {
    "name": "ipython",
    "version": 3
   },
   "file_extension": ".py",
   "mimetype": "text/x-python",
   "name": "python",
   "nbconvert_exporter": "python",
   "pygments_lexer": "ipython3",
   "version": "3.11.4"
  },
  "orig_nbformat": 4
 },
 "nbformat": 4,
 "nbformat_minor": 2
}
