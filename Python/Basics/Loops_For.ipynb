{
 "cells": [
  {
   "cell_type": "markdown",
   "metadata": {},
   "source": [
    "For Loop\n",
    "\n",
    "For Loop is a part of definitive iteration, where you specify the number of iterations in the start of the loop itself.\n",
    "\n",
    "The different ways to do difinite iterations are -\n",
    "\n",
    "Numeric Range Loop - It has a simple numeric range statement with start and end values. eg. for i =1 to 10\n",
    "\n",
    "Three Expression Loop - It contains 3 parts: an initialization, an expression with an end condition, an action to be performed at the end of the loop. eg. for(i=1,i<=10,i++)\n",
    "\n",
    "Collection based or Iterator based Loop - This loop iterates over a collection of objects such as a list. Each loop i takes up the next value in the collection. eg. for i in collection"
   ]
  },
  {
   "cell_type": "code",
   "execution_count": 1,
   "metadata": {},
   "outputs": [
    {
     "name": "stdout",
     "output_type": "stream",
     "text": [
      "A\n",
      "B\n",
      "C\n"
     ]
    }
   ],
   "source": [
    "a= ['A','B','C']\n",
    "for i in a:\n",
    "    print(i)"
   ]
  },
  {
   "cell_type": "code",
   "execution_count": 4,
   "metadata": {},
   "outputs": [
    {
     "name": "stdout",
     "output_type": "stream",
     "text": [
      "A\n",
      "1\n",
      "B\n",
      "2\n",
      "C\n",
      "3\n",
      "1\n",
      "2\n",
      "3\n"
     ]
    }
   ],
   "source": [
    "d= {'A':1,'B':2,'C':3}\n",
    "\n",
    "for i in d:\n",
    "    print(i) #for keys\n",
    "    print(d[i]) #for values\n",
    "\n",
    "for i in d.values(): #also for values\n",
    "    print(i)"
   ]
  },
  {
   "cell_type": "markdown",
   "metadata": {},
   "source": [
    "Break Continue and Else\n",
    "\n",
    "Similar to the while loop break and continue statements work in for loop as well in the same way.\n",
    "\n",
    "Else statement will work once the loop has been completed."
   ]
  },
  {
   "cell_type": "code",
   "execution_count": 5,
   "metadata": {},
   "outputs": [
    {
     "name": "stdout",
     "output_type": "stream",
     "text": [
      "foo\n",
      "bar\n",
      "baz\n",
      "qux\n",
      "Done.\n"
     ]
    }
   ],
   "source": [
    "for i in ['foo', 'bar', 'baz', 'qux']:\n",
    "     print(i)\n",
    "else:\n",
    "     print('Done.')  # Will execute\n"
   ]
  }
 ],
 "metadata": {
  "kernelspec": {
   "display_name": "Python 3",
   "language": "python",
   "name": "python3"
  },
  "language_info": {
   "codemirror_mode": {
    "name": "ipython",
    "version": 3
   },
   "file_extension": ".py",
   "mimetype": "text/x-python",
   "name": "python",
   "nbconvert_exporter": "python",
   "pygments_lexer": "ipython3",
   "version": "3.11.4"
  },
  "orig_nbformat": 4
 },
 "nbformat": 4,
 "nbformat_minor": 2
}
