{
 "cells": [
  {
   "cell_type": "markdown",
   "metadata": {},
   "source": [
    "Strings are a sequence of character data that you can use to represent and store text data"
   ]
  },
  {
   "cell_type": "code",
   "execution_count": 1,
   "metadata": {},
   "outputs": [
    {
     "data": {
      "text/plain": [
       "str"
      ]
     },
     "execution_count": 1,
     "metadata": {},
     "output_type": "execute_result"
    }
   ],
   "source": [
    "#The string type is called str\n",
    "\n",
    "type(\"Hello World\")"
   ]
  },
  {
   "cell_type": "code",
   "execution_count": 2,
   "metadata": {},
   "outputs": [
    {
     "data": {
      "text/plain": [
       "0"
      ]
     },
     "execution_count": 2,
     "metadata": {},
     "output_type": "execute_result"
    }
   ],
   "source": [
    "# len() function is used to get the length of a string\n",
    "\n",
    "len(\"\")"
   ]
  },
  {
   "cell_type": "markdown",
   "metadata": {},
   "source": [
    "Triple quotes can be used to create multiline strings  \n",
    "\"\"\" Hello  \n",
    "World  \n",
    "!\"\"\"  "
   ]
  },
  {
   "cell_type": "markdown",
   "metadata": {},
   "source": [
    "When you need to apply a specific meaning to characters you can use escape sequences backslash(\\) with a specific character  \n",
    "You can also use it for multiline strings  \n",
    "Examples of Escape Sequences  \n",
    "\\n,\\t  "
   ]
  },
  {
   "cell_type": "code",
   "execution_count": 3,
   "metadata": {},
   "outputs": [
    {
     "name": "stdout",
     "output_type": "stream",
     "text": [
      "a\tb\n",
      "a\n",
      "b\n"
     ]
    }
   ],
   "source": [
    "print(\"a\\tb\")\n",
    "print(\"a\\nb\")"
   ]
  },
  {
   "cell_type": "markdown",
   "metadata": {},
   "source": [
    "adding r before the string makes it a raw string and it wont be affected by the escape sequence"
   ]
  },
  {
   "cell_type": "markdown",
   "metadata": {},
   "source": [
    "Some Imp String Methods\n",
    "\n",
    ".capitalize() - Converts the first character to uppercase and rest to lowercase  \n",
    ".lower()- Converts the string to lowercase  \n",
    ".strip([chars]) - Trims the string by removing the chars from start and end  \n",
    ".lstrip([chars])- only removes from start  \n",
    ".rstrip([chars])- only removes from end  \n",
    ".replace(old,new)- replaces the substring old with new  \n",
    ".upper()- Converts string to uppercase  \n",
    ".join(iterable) - Joins the items in the iterable with the string as a seperator  "
   ]
  },
  {
   "cell_type": "code",
   "execution_count": 4,
   "metadata": {},
   "outputs": [
    {
     "name": "stdout",
     "output_type": "stream",
     "text": [
      "Hello\n",
      "Now is the time\n",
      "Header\n"
     ]
    }
   ],
   "source": [
    "print(\"hello\".capitalize())\n",
    "\n",
    "print(\" \".join([\"Now\",\"is\",\"the\",\"time\"]))\n",
    "\n",
    "print(\"------Header-----\".strip(\"-\"))\n"
   ]
  },
  {
   "cell_type": "markdown",
   "metadata": {},
   "source": [
    "It also has some functions which return boolean values\n",
    "\n",
    ".endswith(suffix[,start[,end]])- True if string ends with specified suffix\n",
    "\n",
    ".startswith(prefix[,start[,end]])- True if string starts with specified prefix\n",
    "\n",
    ".isalnum() - True is alphanumeric  \n",
    ".isalpha() - True if all characters are alphabets  \n",
    ".isdigit() - True if all characters are digits  \n",
    ".islower() - True if all characters are in lower case  \n",
    ".isupper() - True if all characters are in upper case  \n",
    ".isspace() - True if all characters are spaces  \n",
    ".isnumeric() - True if all characters are numeric characters  "
   ]
  },
  {
   "cell_type": "code",
   "execution_count": 5,
   "metadata": {},
   "outputs": [
    {
     "name": "stdout",
     "output_type": "stream",
     "text": [
      "True\n",
      "False\n",
      "True\n",
      "True\n"
     ]
    }
   ],
   "source": [
    "print(\"123abc\".isalnum())\n",
    "print(\"123abc\".isalpha())\n",
    "print(\"123\".isdigit())\n",
    "print(\"abc\".islower())"
   ]
  },
  {
   "cell_type": "markdown",
   "metadata": {},
   "source": [
    "Some other oprations of Strings\n",
    "\n",
    ".count(sub[,start[,end]]) - Retuns number of occurances of a substring  \n",
    ".find(sub[,start[,end]]) - Returns index of first occurace of a substring  \n",
    ".rfind(sub[,start[,end]]) - Returns index of last occurace of a substring  \n",
    ".split(sep=None,maxsplit=-1) - Splits the string at the specified seperator and returns a list  \n",
    ".partition(sep) - Splits the string at the first occurance of sep  \n",
    ".rpartition(sep) - Splits the string at the last occurance of sep  \n"
   ]
  },
  {
   "cell_type": "code",
   "execution_count": 6,
   "metadata": {},
   "outputs": [
    {
     "data": {
      "text/plain": [
       "['Flat', 'is', 'better', 'than', 'nested']"
      ]
     },
     "execution_count": 6,
     "metadata": {},
     "output_type": "execute_result"
    }
   ],
   "source": [
    "sentence = \"Flat is better than nested\"\n",
    "words = sentence.split()\n",
    "words"
   ]
  },
  {
   "cell_type": "code",
   "execution_count": 7,
   "metadata": {},
   "outputs": [
    {
     "data": {
      "text/plain": [
       "('1', '-', '2-3-4-5')"
      ]
     },
     "execution_count": 7,
     "metadata": {},
     "output_type": "execute_result"
    }
   ],
   "source": [
    "numbers = \"1-2-3-4-5\"\n",
    "head, sep, tail = numbers.partition(\"-\")\n",
    "head,sep,tail"
   ]
  },
  {
   "cell_type": "code",
   "execution_count": 8,
   "metadata": {},
   "outputs": [
    {
     "name": "stdout",
     "output_type": "stream",
     "text": [
      "y\n",
      "Python\n"
     ]
    }
   ],
   "source": [
    "#Indexing and slicing\n",
    "\n",
    "print(\"Python\"[1]) # print item present at position 1\n",
    "print(\"Python\"[:6]) # prints items from 0 to 5"
   ]
  }
 ],
 "metadata": {
  "kernelspec": {
   "display_name": "Python 3",
   "language": "python",
   "name": "python3"
  },
  "language_info": {
   "codemirror_mode": {
    "name": "ipython",
    "version": 3
   },
   "file_extension": ".py",
   "mimetype": "text/x-python",
   "name": "python",
   "nbconvert_exporter": "python",
   "pygments_lexer": "ipython3",
   "version": "3.11.4"
  },
  "orig_nbformat": 4
 },
 "nbformat": 4,
 "nbformat_minor": 2
}
