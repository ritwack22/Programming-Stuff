{
 "cells": [
  {
   "cell_type": "markdown",
   "metadata": {},
   "source": [
    "Functions\n",
    "\n",
    "A function is a self contained block of code that performs a specific task or set of tasks.  \n",
    "eg. len(),id() these are in built fucntions into python\n",
    "\n",
    "When you call a function with appropriate arguements, the program execution goes off into the designated body of the function code. Once the execution is complete it returns back to the original code and may or may not return a value."
   ]
  },
  {
   "cell_type": "markdown",
   "metadata": {},
   "source": [
    "Function call and Defination\n",
    "\n",
    "The usual syntax for a function is -\n",
    "\n",
    "def <function_name>([parameters]):  \n",
    "    <statement(s)>\n",
    "\n",
    "Statements will contain the body of the function, and will be executed whenever the function is called.\n",
    "\n",
    "The syntax for calling a function is - \n",
    "\n",
    "<function_name>([Arguments])\n",
    "\n",
    "Arguments will contain the values passed into the function. They correspond to the parameters in the function definition."
   ]
  },
  {
   "cell_type": "code",
   "execution_count": 1,
   "metadata": {},
   "outputs": [
    {
     "name": "stdout",
     "output_type": "stream",
     "text": [
      "Before calling f()\n",
      "-- Inside f()\n",
      "After calling f()\n"
     ]
    }
   ],
   "source": [
    "def f():\n",
    "    s = '-- Inside f()'\n",
    "    print(s)\n",
    "\n",
    "print('Before calling f()')\n",
    "f()\n",
    "print('After calling f()')"
   ]
  },
  {
   "cell_type": "markdown",
   "metadata": {},
   "source": [
    "Argument Passing\n",
    "\n",
    "There are multiple ways in which arguments can be passed to a function.\n",
    "\n",
    "1. Positional Argumnets - Comma seperated set of arguments are specified in the function definition. eg. def f(qty,item,price). When you call the function you specify a similar set of parameters. eg . f(6, 'bananas', 1.74). These parameters are then bound to the variables in order and number. You must specify the same number of arguments in the function call as there are parameters in the definition, and in exactly the same order.\n",
    "2. Keyword Arguments - Arguments are specified as a pair of key and value. eg. f(qty=6, item='bananas', price=1.74). In that case, each keyword must match a parameter in the Python function definition. It removes the restriction of order. But the number of arguments needs to be the same.\n",
    "3. Default Arguments - In the definition if it defined with name and value pair then it becomes the dfault value for that parameter. eg. def f(qty=6, item='bananas', price=1.74). So if it is not called with a value in the function call then it will use the default value specified."
   ]
  },
  {
   "cell_type": "markdown",
   "metadata": {},
   "source": [
    "Return Statement\n",
    "\n",
    "A return statement terminates the function and provides some value back to the caller if specified. If nothing is specified after the return statement then it just simply ends the fucntion. Return statements can be entered at any point in the function and even multiple times.\n",
    "\n",
    "It can also be used to pass data back to the caller.If a return statement inside a Python function is followed by an expression, then in the calling environment, the function call evaluates to the value of that expression."
   ]
  },
  {
   "cell_type": "code",
   "execution_count": 3,
   "metadata": {},
   "outputs": [
    {
     "name": "stdout",
     "output_type": "stream",
     "text": [
      "64\n"
     ]
    },
    {
     "data": {
      "text/plain": [
       "'foo'"
      ]
     },
     "execution_count": 3,
     "metadata": {},
     "output_type": "execute_result"
    }
   ],
   "source": [
    "def f(x):\n",
    "     if x < 0:\n",
    "         return\n",
    "     if x > 100:\n",
    "         return\n",
    "     print(x)\n",
    "\n",
    "f(-3)\n",
    "f(105)\n",
    "f(64)\n",
    "\n",
    "def f():\n",
    "     return 'foo'\n",
    "\n",
    "\n",
    "s = f()\n",
    "s"
   ]
  }
 ],
 "metadata": {
  "kernelspec": {
   "display_name": "Python 3",
   "language": "python",
   "name": "python3"
  },
  "language_info": {
   "codemirror_mode": {
    "name": "ipython",
    "version": 3
   },
   "file_extension": ".py",
   "mimetype": "text/x-python",
   "name": "python",
   "nbconvert_exporter": "python",
   "pygments_lexer": "ipython3",
   "version": "3.11.4"
  },
  "orig_nbformat": 4
 },
 "nbformat": 4,
 "nbformat_minor": 2
}
