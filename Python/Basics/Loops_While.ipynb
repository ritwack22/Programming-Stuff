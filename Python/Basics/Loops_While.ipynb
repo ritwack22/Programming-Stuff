{
 "cells": [
  {
   "cell_type": "markdown",
   "metadata": {},
   "source": [
    "While Loop\n",
    "\n",
    "A while loop is used for indefinite iteration, where the number of times the loop is supposed to be run is not specified in advance. And, the block is run as long as some statment is met.\n",
    "\n",
    "while expr:  \n",
    "statement  \n",
    "\n",
    "Similar to If statement the block of code needs to be indented as required. Also the statements will be run as long as the conditions are met.\n",
    "\n",
    "Meanwhile, the expr involves variables that are initialized prior to the loop and would be modified somewhere in the body of the loop.\n",
    "\n",
    "When the loop is reached, if the expr is correct then the body is run for the first time otherwise it is skipped. Every consequetive time the condition needs to be met again for the body to be run."
   ]
  },
  {
   "cell_type": "code",
   "execution_count": 2,
   "metadata": {},
   "outputs": [
    {
     "name": "stdout",
     "output_type": "stream",
     "text": [
      "5\n",
      "4\n",
      "3\n",
      "2\n",
      "1\n",
      "0\n",
      "End\n"
     ]
    }
   ],
   "source": [
    "n=5\n",
    "\n",
    "while n>=0: # initially, n=5 so the loop is run for the first time\n",
    "    print(n) # the body is run and n is printed every time the loop is run\n",
    "    n=n-1 # as n is reduced on every turn the condition is met till n becomes less than 0 after which the loop breaks\n",
    "print(\"End\")"
   ]
  },
  {
   "cell_type": "markdown",
   "metadata": {},
   "source": [
    "Break and Continue Statements\n",
    "\n",
    "Break Statement stops the execution of the loop completely and runs the first statement outside the loop.\n",
    "\n",
    "Continue Statement stops the current iteration of the loop and it jumps to the start of the loop again. "
   ]
  },
  {
   "cell_type": "code",
   "execution_count": 3,
   "metadata": {},
   "outputs": [
    {
     "name": "stdout",
     "output_type": "stream",
     "text": [
      "4\n",
      "3\n",
      "Loop ended.\n"
     ]
    }
   ],
   "source": [
    "n = 5\n",
    "while n > 0:\n",
    "    n -= 1\n",
    "    if n == 2:\n",
    "        break\n",
    "    print(n)\n",
    "print('Loop ended.')"
   ]
  },
  {
   "cell_type": "code",
   "execution_count": 4,
   "metadata": {},
   "outputs": [
    {
     "name": "stdout",
     "output_type": "stream",
     "text": [
      "4\n",
      "3\n",
      "1\n",
      "0\n",
      "Loop ended.\n"
     ]
    }
   ],
   "source": [
    "n = 5\n",
    "while n > 0:\n",
    "    n -= 1\n",
    "    if n == 2:\n",
    "        continue\n",
    "    print(n)\n",
    "print('Loop ended.')"
   ]
  },
  {
   "cell_type": "markdown",
   "metadata": {},
   "source": [
    "Else Statement\n",
    "\n",
    "Similar to If Statement an else clause can be added to the end of the while lopp to execute any additional statements that need to be run. \n",
    "\n",
    "The Else statement will only run if the while lopp is completed by exhaustion and not if it is broken."
   ]
  },
  {
   "cell_type": "code",
   "execution_count": 5,
   "metadata": {},
   "outputs": [
    {
     "name": "stdout",
     "output_type": "stream",
     "text": [
      "4\n",
      "3\n",
      "2\n",
      "1\n",
      "0\n",
      "Loop done.\n",
      "4\n",
      "3\n",
      "2\n"
     ]
    }
   ],
   "source": [
    "n = 5\n",
    "while n > 0:\n",
    "     n -= 1\n",
    "     print(n)\n",
    "else:\n",
    "     print('Loop done.')\n",
    "\n",
    "n = 5\n",
    "while n > 0:\n",
    "     n -= 1\n",
    "     print(n)\n",
    "     if n==2:\n",
    "          break\n",
    "else:\n",
    "     print('Loop done.')\n"
   ]
  },
  {
   "cell_type": "code",
   "execution_count": 6,
   "metadata": {},
   "outputs": [
    {
     "name": "stdout",
     "output_type": "stream",
     "text": [
      "corge not found in list.\n"
     ]
    }
   ],
   "source": [
    "a = ['foo', 'bar', 'baz', 'qux'] # else with while is useful if you want to find if an item is present in a list as an example\n",
    "s = 'corge'\n",
    "i = 0\n",
    "while i < len(a):\n",
    "     if a[i] == s:\n",
    "         print('Item found')\n",
    "         # Processing for item found\n",
    "         break\n",
    "     i += 1\n",
    "else:\n",
    "     # Processing for item not found\n",
    "     print(s, 'not found in list.')"
   ]
  },
  {
   "cell_type": "markdown",
   "metadata": {},
   "source": [
    "Nested While Loop\n",
    "\n",
    "Similar to the If Statement the while loops can also be nested.\n",
    "\n",
    "The break statement termainates the closet while loop only.\n",
    "\n",
    "They can also be nested with If statements as well."
   ]
  },
  {
   "cell_type": "code",
   "execution_count": 7,
   "metadata": {},
   "outputs": [
    {
     "name": "stdout",
     "output_type": "stream",
     "text": [
      "foo\n",
      "> baz\n",
      "> qux\n",
      "bar\n",
      "> baz\n",
      "> qux\n"
     ]
    }
   ],
   "source": [
    "a = ['foo', 'bar']\n",
    "while len(a):\n",
    "     print(a.pop(0))\n",
    "     b = ['baz', 'qux']\n",
    "     while len(b):\n",
    "         print('>', b.pop(0))"
   ]
  }
 ],
 "metadata": {
  "kernelspec": {
   "display_name": "Python 3",
   "language": "python",
   "name": "python3"
  },
  "language_info": {
   "codemirror_mode": {
    "name": "ipython",
    "version": 3
   },
   "file_extension": ".py",
   "mimetype": "text/x-python",
   "name": "python",
   "nbconvert_exporter": "python",
   "pygments_lexer": "ipython3",
   "version": "3.11.4"
  },
  "orig_nbformat": 4
 },
 "nbformat": 4,
 "nbformat_minor": 2
}
