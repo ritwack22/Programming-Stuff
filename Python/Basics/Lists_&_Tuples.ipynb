{
 "cells": [
  {
   "cell_type": "markdown",
   "metadata": {},
   "source": [
    "Lists are a collection of objects. they are defined by enclosing comma seperated objects in square brackets."
   ]
  },
  {
   "cell_type": "code",
   "execution_count": 10,
   "metadata": {},
   "outputs": [
    {
     "name": "stdout",
     "output_type": "stream",
     "text": [
      "[1, 2, 3, 4]\n"
     ]
    }
   ],
   "source": [
    "a=[1,2,3,4]\n",
    "print(a)"
   ]
  },
  {
   "cell_type": "markdown",
   "metadata": {},
   "source": [
    "Lists are ordered - The order of the objects within the list are important  \n",
    "Lists can contain any arbitrary objects - They can contain multiple datatypes in a sinlge list  \n",
    "List elements can be accessed by index - Similar to strings lists can also be accessed by indexes. Slicing also works. A lot of string fucntions can also be used with lists   \n",
    "Lists can be nested to arbitrary depth - Lists can contain other lists inside to form nested lists. Indexed as l[i][j]  \n",
    "Lists are mutable- Elements can be created,deleted,moved around even after a list is created  \n",
    "Lists are dynamic - Size of lists can change  "
   ]
  },
  {
   "cell_type": "code",
   "execution_count": 11,
   "metadata": {},
   "outputs": [
    {
     "name": "stdout",
     "output_type": "stream",
     "text": [
      "[1, 2, 3, [1, 2, 3]]\n",
      "[1, 2, 3, 1, 2, 3]\n",
      "[1, 4, 2, 3]\n",
      "[1, 3]\n",
      "[2, 3]\n"
     ]
    }
   ],
   "source": [
    "# Methods that modify lists\n",
    "\n",
    "a=[1,2,3]\n",
    "a.append([1,2,3]) # appends element as a single object\n",
    "print(a)\n",
    "\n",
    "b=[1,2,3]\n",
    "b.extend([1,2,3]) # appends each element individually\n",
    "print(b)\n",
    "\n",
    "c=[1,2,3]\n",
    "c.insert(1,4) # inserts element at specified position\n",
    "print(c)\n",
    "\n",
    "d=[1,2,3]\n",
    "d.pop(1) # removes and returns last element\n",
    "print(d)\n",
    "\n",
    "e=[1,2,3]\n",
    "e.remove(1) # removes first occurrence of element\n",
    "print(e)"
   ]
  },
  {
   "cell_type": "markdown",
   "metadata": {},
   "source": [
    "Tuples are similar to lists except they are enclosed with parantheses (()) and they are immutable"
   ]
  },
  {
   "cell_type": "markdown",
   "metadata": {},
   "source": [
    "Some advantages of tuples over list are  \n",
    "Program execution is faster when manipulating a tuple than it is for the equivalent list.  \n",
    "Sometimes you don’t want data to be modified. If the values in the collection are meant to remain constant, using a tuple instead of a list guards against accidental modification.  \n",
    "There is another Python data type that you will encounter shortly called a dictionary, which requires as one of its components a value that is of an immutable type."
   ]
  }
 ],
 "metadata": {
  "kernelspec": {
   "display_name": "Python 3",
   "language": "python",
   "name": "python3"
  },
  "language_info": {
   "codemirror_mode": {
    "name": "ipython",
    "version": 3
   },
   "file_extension": ".py",
   "mimetype": "text/x-python",
   "name": "python",
   "nbconvert_exporter": "python",
   "pygments_lexer": "ipython3",
   "version": "3.11.4"
  },
  "orig_nbformat": 4
 },
 "nbformat": 4,
 "nbformat_minor": 2
}
