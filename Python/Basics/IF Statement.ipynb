{
 "cells": [
  {
   "cell_type": "markdown",
   "metadata": {},
   "source": [
    "IF Statement  \n",
    "\n",
    "The IF statement is used to test a condition and execute a statement if the condition is true.  \n",
    "\n",
    "Syntax  \n",
    "if expression:  \n",
    "    statement\n",
    "\n",
    "If expression is true, then statement is executed else it is skipped over."
   ]
  },
  {
   "cell_type": "code",
   "execution_count": 4,
   "metadata": {},
   "outputs": [
    {
     "name": "stdout",
     "output_type": "stream",
     "text": [
      "y is greater than x\n"
     ]
    }
   ],
   "source": [
    "x=0\n",
    "y=5\n",
    "\n",
    "if x>y:\n",
    "    print(\"x is greater than y\")\n",
    "\n",
    "if y>x:\n",
    "    print(\"y is greater than x\")"
   ]
  },
  {
   "cell_type": "markdown",
   "metadata": {},
   "source": [
    "Grouping Statements\n",
    "\n",
    "If you need to print multiple statements using one condition we need to create a block. Using similar indentation you are able to define a block of statements. \n",
    "\n",
    "All these statements will be exceuted together if the condition is meet else they are all skipped."
   ]
  },
  {
   "cell_type": "code",
   "execution_count": 5,
   "metadata": {},
   "outputs": [
    {
     "name": "stdout",
     "output_type": "stream",
     "text": [
      "After conditional\n"
     ]
    }
   ],
   "source": [
    "if 'foo' in ['bar', 'baz', 'qux']:\n",
    "    print('Expression was true')\n",
    "    print('Executing statement in suite')\n",
    "    print('...')\n",
    "    print('Done.')\n",
    "print('After conditional')"
   ]
  },
  {
   "cell_type": "markdown",
   "metadata": {},
   "source": [
    "Else Condition\n",
    "\n",
    "If you want to evaluate a condition and take one path if it is true and take another if it is false, it is possible using the else clause.\n",
    "\n",
    "if expression:  \n",
    "    <statement(s)>  \n",
    "else:  \n",
    "    <statement(s)>  \n",
    "\n",
    "If expression is true it executes the first set of statements otherwise it will execute the second set."
   ]
  },
  {
   "cell_type": "code",
   "execution_count": 6,
   "metadata": {},
   "outputs": [
    {
     "name": "stdout",
     "output_type": "stream",
     "text": [
      "x is not greater than 50\n"
     ]
    }
   ],
   "source": [
    "x=20\n",
    "\n",
    "if x > 50:\n",
    "    print(\"x is greater than 50\")\n",
    "else:\n",
    "    print(\"x is not greater than 50\")"
   ]
  },
  {
   "cell_type": "markdown",
   "metadata": {},
   "source": [
    "Elif Condition\n",
    "\n",
    "Elif is used when we want to branch executions based on multiple conditions.\n",
    "\n",
    "if expr:  \n",
    "    <statement(s)>  \n",
    "elif expr:  \n",
    "    <statement(s)>  \n",
    "elif expr:  \n",
    "    <statement(s)>  \n",
    "    ...  \n",
    "else:  \n",
    "    <statement(s)>  \n",
    "\n",
    "Python checks for each expr and executes the set of statements that fulfils the condition.\n",
    "\n",
    "There can be any number of elif blocks but only one else block is allowed and should be mentioned last."
   ]
  },
  {
   "cell_type": "code",
   "execution_count": 7,
   "metadata": {},
   "outputs": [
    {
     "name": "stdout",
     "output_type": "stream",
     "text": [
      "Hello Joe\n"
     ]
    }
   ],
   "source": [
    "name = 'Joe'\n",
    "if name == 'Fred':\n",
    "     print('Hello Fred')\n",
    "elif name == 'Xander':\n",
    "     print('Hello Xander')\n",
    "elif name == 'Joe':\n",
    "     print('Hello Joe')\n",
    "elif name == 'Arnold':\n",
    "     print('Hello Arnold')\n",
    "else:\n",
    "    print(\"I don't know who you are!\")"
   ]
  },
  {
   "cell_type": "markdown",
   "metadata": {},
   "source": [
    "Nested IF Statements\n",
    "\n",
    "Multiple statemwnts can be nested within each other to allow for many variations of the code to be run and checked."
   ]
  },
  {
   "cell_type": "code",
   "execution_count": 3,
   "metadata": {},
   "outputs": [
    {
     "name": "stdout",
     "output_type": "stream",
     "text": [
      "father\n"
     ]
    }
   ],
   "source": [
    "age=18\n",
    "gender='M'\n",
    "if age < 18:\n",
    "    if gender == 'M':\n",
    "        print('son')\n",
    "    else:\n",
    "        print('daughter')\n",
    "elif age >= 18 and age < 65:\n",
    "    if gender == 'M':\n",
    "        print('father')\n",
    "    else:\n",
    "        print('mother')\n",
    "else:\n",
    "    if gender == 'M':\n",
    "        print('grandfather')\n",
    "    else:\n",
    "        print('grandmother')"
   ]
  },
  {
   "cell_type": "markdown",
   "metadata": {},
   "source": [
    "Conditional Expressions\n",
    "\n",
    "expr1 if <conditional_expr> else expr2\n",
    "\n",
    "In this example the conditional expr is calculated first, if it is true then expr1 is executed otherwise expr2 is executed.\n",
    "\n",
    "It can be used for small single execution if statements to make them simpler and easier to understand.\n",
    "\n",
    "Instead of-\n",
    "\n",
    "if a>b:\n",
    "m=a\n",
    "else:\n",
    "m=b\n",
    "\n",
    "You can write-\n",
    "\n",
    "m=a if a>b else b\n",
    "\n"
   ]
  },
  {
   "cell_type": "code",
   "execution_count": 8,
   "metadata": {},
   "outputs": [
    {
     "data": {
      "text/plain": [
       "'minor'"
      ]
     },
     "execution_count": 8,
     "metadata": {},
     "output_type": "execute_result"
    }
   ],
   "source": [
    "age = 12\n",
    "s = 'minor' if age < 21 else 'adult'\n",
    "s"
   ]
  },
  {
   "cell_type": "markdown",
   "metadata": {},
   "source": [
    "Pass Statement\n",
    "\n",
    "It is used as a placeholder where ever in the code you are required to write something but nothing needs to be done.\n",
    "\n",
    "if True:  \n",
    "    pass\n",
    "\n",
    "print('foo')"
   ]
  }
 ],
 "metadata": {
  "kernelspec": {
   "display_name": "Python 3",
   "language": "python",
   "name": "python3"
  },
  "language_info": {
   "codemirror_mode": {
    "name": "ipython",
    "version": 3
   },
   "file_extension": ".py",
   "mimetype": "text/x-python",
   "name": "python",
   "nbconvert_exporter": "python",
   "pygments_lexer": "ipython3",
   "version": "3.11.4"
  },
  "orig_nbformat": 4
 },
 "nbformat": 4,
 "nbformat_minor": 2
}
