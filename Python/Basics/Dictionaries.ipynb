{
 "cells": [
  {
   "cell_type": "markdown",
   "metadata": {},
   "source": [
    "Dictionaries contain an array of key-value pairs. Each pair maps the key to its associated value  \n",
    "You can define a dictionary by enclosing a comma separated list of key value pairs in curly brackets ({}).  \n",
    "A colon(:) separates each key from its value."
   ]
  },
  {
   "cell_type": "code",
   "execution_count": 16,
   "metadata": {},
   "outputs": [
    {
     "name": "stdout",
     "output_type": "stream",
     "text": [
      "{'Colorado': 'Rockies', 'Boston': 'Red Sox', 'Minnesota': 'Twins', 'Milwaukee': 'Brewers', 'Seattle': 'Mariners'}\n"
     ]
    }
   ],
   "source": [
    "MLB_team = dict([\n",
    "     ('Colorado', 'Rockies'),\n",
    "     ('Boston', 'Red Sox'),\n",
    "     ('Minnesota', 'Twins'),\n",
    "     ('Milwaukee', 'Brewers'),\n",
    "     ('Seattle', 'Mariners')\n",
    " ])\n",
    "\n",
    "print(MLB_team)"
   ]
  },
  {
   "cell_type": "code",
   "execution_count": 17,
   "metadata": {},
   "outputs": [
    {
     "name": "stdout",
     "output_type": "stream",
     "text": [
      "Red Sox\n"
     ]
    }
   ],
   "source": [
    "#A value of a dictonary is retreived using the associated key in square brackets\n",
    "\n",
    "print(MLB_team['Boston'])"
   ]
  },
  {
   "cell_type": "code",
   "execution_count": 18,
   "metadata": {},
   "outputs": [
    {
     "name": "stdout",
     "output_type": "stream",
     "text": [
      "{'Colorado': 'Rockies', 'Boston': 'Red Sox', 'Minnesota': 'Twins', 'Milwaukee': 'Brewers', 'Seattle': 'Mariners', 'Kansas City': 'Royals'}\n",
      "{'Colorado': 'Rockies', 'Boston': 'Red Sox', 'Minnesota': 'Twins', 'Milwaukee': 'Brewers', 'Seattle': 'Sea hawks', 'Kansas City': 'Royals'}\n",
      "{'Colorado': 'Rockies', 'Boston': 'Red Sox', 'Minnesota': 'Twins', 'Milwaukee': 'Brewers', 'Kansas City': 'Royals'}\n"
     ]
    }
   ],
   "source": [
    "# Adding an element in a dictionary is just adding a new key value pair\n",
    "\n",
    "MLB_team['Kansas City']='Royals'\n",
    "\n",
    "print(MLB_team) \n",
    "\n",
    "#Updating an element is just assigning the key to the new value\n",
    "\n",
    "MLB_team['Seattle']='Sea hawks'\n",
    "\n",
    "print(MLB_team)\n",
    "#deleting an entry using del statement\n",
    "del MLB_team['Seattle']\n",
    "\n",
    "print(MLB_team)"
   ]
  },
  {
   "cell_type": "code",
   "execution_count": 19,
   "metadata": {},
   "outputs": [
    {
     "name": "stdout",
     "output_type": "stream",
     "text": [
      "{'fname': 'Joe', 'lname': 'Fonebone', 'age': 51, 'spouse': 'Edna', 'children': ['Ralph', 'Betty', 'Joey'], 'pets': {'dog': 'Fido', 'cat': 'Sox'}}\n",
      "Joe\n",
      "Joey\n",
      "Sox\n"
     ]
    }
   ],
   "source": [
    "person = {}\n",
    "\n",
    "person['fname'] = 'Joe'\n",
    "person['lname'] = 'Fonebone'\n",
    "person['age'] = 51\n",
    "person['spouse'] = 'Edna'\n",
    "person['children'] = ['Ralph', 'Betty', 'Joey']\n",
    "person['pets'] = {'dog': 'Fido', 'cat': 'Sox'}\n",
    "\n",
    "print(person)\n",
    "print(person['fname'])\n",
    "print(person['children'][-1])\n",
    "print(person['pets']['cat'])"
   ]
  },
  {
   "cell_type": "markdown",
   "metadata": {},
   "source": [
    "Restrictions of Dictionary Keys\n",
    "\n",
    "A given key can exist only once in a dictionary, there cant be any duplicates.  \n",
    "Dictionary keys can be only of immutable datatype."
   ]
  },
  {
   "cell_type": "code",
   "execution_count": 20,
   "metadata": {},
   "outputs": [
    {
     "name": "stdout",
     "output_type": "stream",
     "text": [
      "True\n",
      "5\n"
     ]
    }
   ],
   "source": [
    "# Dictionary Functions\n",
    "\n",
    "print('Milwaukee' in MLB_team) # in and not in can be used to check if keys are present\n",
    "\n",
    "print(len(MLB_team)) # will give the number of key value pairs"
   ]
  },
  {
   "cell_type": "code",
   "execution_count": 21,
   "metadata": {},
   "outputs": [
    {
     "name": "stdout",
     "output_type": "stream",
     "text": [
      "20\n",
      "[('a', 10), ('b', 20), ('c', 30)]\n",
      "dict_keys(['a', 'b', 'c'])\n",
      "dict_values([10, 20, 30])\n",
      "20\n",
      "{'a': 10}\n",
      "{'a': 10, 'b': 200, 'd': 400}\n",
      "{}\n"
     ]
    }
   ],
   "source": [
    "d = {'a': 10, 'b': 20, 'c': 30}\n",
    "\n",
    "print(d.get('b')) #returns value for key if it is present\n",
    "\n",
    "print(list(d.items())) #returns the key value pairs\n",
    "\n",
    "print(d.keys()) #returns all the keys in the dictionary\n",
    "\n",
    "print(d.values()) #returns all the values in the dictionary\n",
    "\n",
    "print(d.pop('b')) #deletes the key and returns the value\n",
    "\n",
    "d.popitem()\n",
    "print(d) #deletes the last key value pair\n",
    "\n",
    "d1 = {'b': 200, 'd': 400}\n",
    "d.update(d1)\n",
    "print(d) #updates the dictionary with new key value pairs\n",
    "\n",
    "d.clear()#deletes the entire dictionary\n",
    "\n",
    "print(d)"
   ]
  }
 ],
 "metadata": {
  "kernelspec": {
   "display_name": "Python 3",
   "language": "python",
   "name": "python3"
  },
  "language_info": {
   "codemirror_mode": {
    "name": "ipython",
    "version": 3
   },
   "file_extension": ".py",
   "mimetype": "text/x-python",
   "name": "python",
   "nbconvert_exporter": "python",
   "pygments_lexer": "ipython3",
   "version": "3.11.4"
  },
  "orig_nbformat": 4
 },
 "nbformat": 4,
 "nbformat_minor": 2
}
